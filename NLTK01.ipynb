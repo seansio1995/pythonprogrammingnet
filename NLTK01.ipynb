{
 "cells": [
  {
   "cell_type": "code",
   "execution_count": 1,
   "metadata": {
    "collapsed": true
   },
   "outputs": [],
   "source": [
    "from nltk.tokenize import sent_tokenize,word_tokenize\n",
    "example_text = \"Hello Mr. Smith, how are you doing today? The weather is great and Python is awesome. The sky is pinkish-blue. You should not eat cardboard.\"\n"
   ]
  },
  {
   "cell_type": "code",
   "execution_count": 2,
   "metadata": {},
   "outputs": [
    {
     "name": "stdout",
     "output_type": "stream",
     "text": [
      "['Hello Mr. Smith, how are you doing today?', 'The weather is great and Python is awesome.', 'The sky is pinkish-blue.', 'You should not eat cardboard.']\n"
     ]
    }
   ],
   "source": [
    "print(sent_tokenize(example_text))"
   ]
  },
  {
   "cell_type": "code",
   "execution_count": 3,
   "metadata": {},
   "outputs": [
    {
     "name": "stdout",
     "output_type": "stream",
     "text": [
      "['Hello', 'Mr.', 'Smith', ',', 'how', 'are', 'you', 'doing', 'today', '?', 'The', 'weather', 'is', 'great', 'and', 'Python', 'is', 'awesome', '.', 'The', 'sky', 'is', 'pinkish-blue', '.', 'You', 'should', 'not', 'eat', 'cardboard', '.']\n"
     ]
    }
   ],
   "source": [
    "print(word_tokenize(example_text))"
   ]
  },
  {
   "cell_type": "code",
   "execution_count": 4,
   "metadata": {},
   "outputs": [
    {
     "name": "stdout",
     "output_type": "stream",
     "text": [
      "Hello\n",
      "Mr.\n",
      "Smith\n",
      ",\n",
      "how\n",
      "are\n",
      "you\n",
      "doing\n",
      "today\n",
      "?\n",
      "The\n",
      "weather\n",
      "is\n",
      "great\n",
      "and\n",
      "Python\n",
      "is\n",
      "awesome\n",
      ".\n",
      "The\n",
      "sky\n",
      "is\n",
      "pinkish-blue\n",
      ".\n",
      "You\n",
      "should\n",
      "not\n",
      "eat\n",
      "cardboard\n",
      ".\n"
     ]
    }
   ],
   "source": [
    "for i in word_tokenize(example_text):\n",
    "    print(i)"
   ]
  },
  {
   "cell_type": "code",
   "execution_count": 5,
   "metadata": {
    "collapsed": true
   },
   "outputs": [],
   "source": [
    "from nltk.corpus import stopwords"
   ]
  },
  {
   "cell_type": "code",
   "execution_count": 6,
   "metadata": {
    "collapsed": true
   },
   "outputs": [],
   "source": [
    "example_text=\"This is an example showing off stop word filtration.\"\n",
    "stop_words=set(stopwords.words(\"english\"))\n",
    "filtered_sent=[word for word in word_tokenize(example_text) if not word in stop_words]"
   ]
  },
  {
   "cell_type": "code",
   "execution_count": 7,
   "metadata": {},
   "outputs": [
    {
     "name": "stdout",
     "output_type": "stream",
     "text": [
      "['This', 'example', 'showing', 'stop', 'word', 'filtration', '.']\n"
     ]
    }
   ],
   "source": [
    "print(filtered_sent)"
   ]
  },
  {
   "cell_type": "code",
   "execution_count": 22,
   "metadata": {
    "collapsed": true
   },
   "outputs": [],
   "source": [
    "poetry_text=open(\"poetry.txt\")"
   ]
  },
  {
   "cell_type": "code",
   "execution_count": 20,
   "metadata": {},
   "outputs": [
    {
     "data": {
      "text/plain": [
       "0"
      ]
     },
     "execution_count": 20,
     "metadata": {},
     "output_type": "execute_result"
    }
   ],
   "source": [
    "len(poetry_text.read())"
   ]
  },
  {
   "cell_type": "code",
   "execution_count": 16,
   "metadata": {},
   "outputs": [
    {
     "name": "stdout",
     "output_type": "stream",
     "text": [
      "My he\n"
     ]
    }
   ],
   "source": [
    "print(poetry_text.read(5))"
   ]
  },
  {
   "cell_type": "code",
   "execution_count": 19,
   "metadata": {},
   "outputs": [
    {
     "data": {
      "text/plain": [
       "0"
      ]
     },
     "execution_count": 19,
     "metadata": {},
     "output_type": "execute_result"
    }
   ],
   "source": [
    "len(poetry_text.read())"
   ]
  },
  {
   "cell_type": "code",
   "execution_count": 23,
   "metadata": {},
   "outputs": [
    {
     "data": {
      "text/plain": [
       "str"
      ]
     },
     "execution_count": 23,
     "metadata": {},
     "output_type": "execute_result"
    }
   ],
   "source": [
    "type(poetry_text.read())"
   ]
  },
  {
   "cell_type": "code",
   "execution_count": 25,
   "metadata": {},
   "outputs": [
    {
     "data": {
      "text/plain": [
       "''"
      ]
     },
     "execution_count": 25,
     "metadata": {},
     "output_type": "execute_result"
    }
   ],
   "source": [
    "poetry_text.read()[:2]"
   ]
  },
  {
   "cell_type": "code",
   "execution_count": 26,
   "metadata": {
    "collapsed": true
   },
   "outputs": [],
   "source": [
    "from urllib import request\n",
    "url = \"http://www.gutenberg.org/files/2554/2554.txt\"\n",
    "response = request.urlopen(url)\n",
    "raw = response.read().decode('utf8')"
   ]
  },
  {
   "cell_type": "code",
   "execution_count": 27,
   "metadata": {},
   "outputs": [
    {
     "data": {
      "text/plain": [
       "str"
      ]
     },
     "execution_count": 27,
     "metadata": {},
     "output_type": "execute_result"
    }
   ],
   "source": [
    "type(raw)"
   ]
  },
  {
   "cell_type": "code",
   "execution_count": 28,
   "metadata": {},
   "outputs": [
    {
     "data": {
      "text/plain": [
       "1176896"
      ]
     },
     "execution_count": 28,
     "metadata": {},
     "output_type": "execute_result"
    }
   ],
   "source": [
    "len(raw)"
   ]
  },
  {
   "cell_type": "code",
   "execution_count": 30,
   "metadata": {},
   "outputs": [],
   "source": [
    "fileter_raw=[word for word in sent_tokenize(raw) if not word in stop_words]"
   ]
  },
  {
   "cell_type": "code",
   "execution_count": 33,
   "metadata": {},
   "outputs": [
    {
     "data": {
      "text/plain": [
       "14841"
      ]
     },
     "execution_count": 33,
     "metadata": {},
     "output_type": "execute_result"
    }
   ],
   "source": [
    "len(fileter_raw)"
   ]
  },
  {
   "cell_type": "code",
   "execution_count": 34,
   "metadata": {},
   "outputs": [
    {
     "data": {
      "text/plain": [
       "0.012610290119092937"
      ]
     },
     "execution_count": 34,
     "metadata": {},
     "output_type": "execute_result"
    }
   ],
   "source": [
    "len(fileter_raw)/len(raw)"
   ]
  },
  {
   "cell_type": "code",
   "execution_count": 35,
   "metadata": {},
   "outputs": [
    {
     "name": "stdout",
     "output_type": "stream",
     "text": [
      "It\n",
      "is\n",
      "veri\n",
      "import\n",
      "to\n",
      "be\n",
      "pythonli\n",
      "while\n",
      "you\n",
      "are\n",
      "python\n",
      "with\n",
      "python\n",
      ".\n",
      "All\n",
      "python\n",
      "have\n",
      "python\n",
      "poorli\n",
      "at\n",
      "least\n",
      "onc\n",
      ".\n"
     ]
    }
   ],
   "source": [
    "from nltk.stem import PorterStemmer\n",
    "ps=PorterStemmer()\n",
    "new_text = \"It is very important to be pythonly while you are pythoning with python. All pythoners have pythoned poorly at least once.\"\n",
    "words=word_tokenize(new_text)\n",
    "for word in words:\n",
    "    print(ps.stem(word))"
   ]
  },
  {
   "cell_type": "code",
   "execution_count": 36,
   "metadata": {
    "collapsed": true
   },
   "outputs": [],
   "source": [
    "from nltk.corpus import wordnet"
   ]
  },
  {
   "cell_type": "code",
   "execution_count": 41,
   "metadata": {},
   "outputs": [
    {
     "data": {
      "text/plain": [
       "'good.n.01'"
      ]
     },
     "execution_count": 41,
     "metadata": {},
     "output_type": "execute_result"
    }
   ],
   "source": [
    "wordnet.synsets(\"good\")[0].name()"
   ]
  },
  {
   "cell_type": "code",
   "execution_count": 42,
   "metadata": {},
   "outputs": [
    {
     "name": "stdout",
     "output_type": "stream",
     "text": [
      "0.9090909090909091\n"
     ]
    }
   ],
   "source": [
    "w1 = wordnet.synset('ship.n.01')\n",
    "w2 = wordnet.synset('boat.n.01')\n",
    "print(w1.wup_similarity(w2))"
   ]
  },
  {
   "cell_type": "code",
   "execution_count": 43,
   "metadata": {
    "collapsed": true
   },
   "outputs": [],
   "source": [
    "import nltk\n",
    "import random\n",
    "from nltk.corpus import movie_reviews\n",
    "\n",
    "documents = [(list(movie_reviews.words(fileid)), category)\n",
    "             for category in movie_reviews.categories()\n",
    "             for fileid in movie_reviews.fileids(category)]\n",
    "\n",
    "random.shuffle(documents)"
   ]
  },
  {
   "cell_type": "code",
   "execution_count": 44,
   "metadata": {},
   "outputs": [
    {
     "name": "stdout",
     "output_type": "stream",
     "text": [
      "(['ralph', 'fiennes', 'is', 'carving', 'out', 'a', 'nice', 'niche', 'for', 'himself', 'in', 'the', 'genre', 'of', 'period', 'piece', 'romances', '.', 'for', 'his', 'followup', 'to', 'the', 'academy', '-', 'beloved', 'the', 'english', 'patient', ',', 'he', 'has', 'once', 'again', 'turned', 'to', 'a', 'love', 'story', ',', 'this', 'time', 'directed', 'by', 'accomplished', 'australian', 'film', 'maker', 'gillian', 'armstrong', '(', 'little', 'women', ')', '.', 'despite', 'some', 'obvious', 'overplotting', ',', 'oscar', 'and', 'lucinda', 'is', 'a', 'mostly', 'effective', 'and', 'often', 'affecting', 'motion', 'picture', 'that', 'touches', 'our', 'hearts', 'while', 'daring', 'our', 'minds', 'to', 'balk', 'at', 'its', 'implausible', 'coincidences', '.', 'the', 'film', 'opens', 'in', 'the', 'mid', '-', '1800s', ',', 'with', 'parallel', 'storylines', 'in', 'new', 'south', 'wales', ',', 'australia', 'and', 'devon', ',', 'england', '.', 'as', 'the', 'helpful', 'narrative', 'voice', 'of', 'geoffrey', 'rush', 'informs', 'us', ',', 'lucinda', 'leplastrier', '(', 'cate', 'blanchett', ')', 'is', 'a', 'headstrong', 'young', 'woman', 'being', 'raised', 'in', 'the', 'australian', 'outback', '.', 'meanwhile', ',', 'half', 'the', 'world', 'away', ',', 'oscar', 'hopkins', '(', 'fiennes', ')', 'has', 'broken', 'with', 'his', 'puritanical', 'father', 'over', 'religious', 'issues', ',', 'and', 'has', 'gone', 'away', 'to', 'school', 'to', 'study', 'to', 'be', 'an', 'anglican', 'priest', '.', 'lucinda', 'is', 'fascinated', 'with', 'glass', ';', 'oscar', 'is', 'obsessed', 'with', 'theology', '.', 'lucinda', 'is', 'rich', ';', 'oscar', 'is', 'poor', '.', 'lucinda', 'is', 'forward', 'and', 'self', '-', 'assured', ';', 'oscar', 'is', 'timid', 'and', 'uncertain', 'of', 'himself', '.', 'yet', 'one', 'characteristic', 'unites', 'these', 'two', 'diverse', 'individuals', '--', 'the', 'compulsion', 'to', 'gamble', ',', 'whether', 'it', \"'\", 's', 'on', 'horses', ',', 'dogs', ',', 'cards', ',', 'or', 'the', 'flip', 'of', 'a', 'coin', '.', 'and', 'fate', 'has', 'decreed', 'that', 'they', 'will', 'one', 'day', 'meet', '.', 'that', 'day', 'doesn', \"'\", 't', 'occur', 'until', '45', 'minutes', 'into', 'the', 'film', ',', 'when', 'oscar', 'boards', 'a', 'ship', 'bound', 'for', 'sidney', ',', 'australia', ',', 'where', 'he', 'hopes', 'to', 'change', 'his', 'life', 'and', 'minister', 'to', 'anyone', 'in', 'need', 'of', 'his', 'help', '.', 'another', 'of', 'the', 'passengers', 'is', 'lucinda', ',', 'who', 'is', 'returning', 'from', 'england', 'where', 'she', 'was', 'shopping', 'for', 'machinery', 'to', 'equip', 'her', 'newly', '-', 'acquired', 'glassworks', 'factory', '.', 'at', 'first', ',', 'their', 'relationship', 'is', 'that', 'of', 'a', 'reverend', 'and', 'a', 'confessor', ',', 'but', 'it', 'doesn', \"'\", 't', 'take', 'long', 'for', 'both', 'of', 'them', 'to', 'recognize', 'a', 'kindred', 'spirit', 'in', 'the', 'other', '.', 'a', 'friendship', 'is', 'born', ',', 'and', ',', 'once', 'they', 'reach', 'australia', ',', 'it', 'develops', 'into', 'something', 'more', 'potent', '.', 'but', 'oscar', 'is', 'uncertain', 'of', 'lucinda', \"'\", 's', 'affection', ',', 'and', 'feels', 'he', 'must', 'do', 'something', 'to', 'prove', 'himself', 'worthy', 'of', 'her', '.', 'oscar', 'and', 'lucinda', 'isn', \"'\", 't', 'beyond', 'a', 'little', 'manipulation', 'to', 'get', 'the', 'desired', 'emotional', 'response', ',', 'and', 'there', 'are', 'times', 'when', 'the', 'storyline', 'curves', 'in', 'preposterous', 'directions', '.', 'on', 'more', 'than', 'one', 'occasion', ',', 'it', \"'\", 's', 'apparent', 'that', 'events', 'are', 'occurring', 'specifically', 'to', 'funnel', 'the', 'characters', 'into', 'a', 'position', 'where', 'there', 'is', 'only', 'one', 'possible', 'route', '.', 'coincidence', 'is', 'a', 'crucial', 'plot', 'device', ';', 'without', 'it', ',', 'this', 'movie', 'can', \"'\", 't', 'go', 'anywhere', '.', 'the', 'voiceover', 'narration', '(', 'never', 'one', 'of', 'my', 'favorite', 'techniques', ')', 'is', 'too', 'verbose', 'and', 'breaks', 'into', 'the', 'story', 'at', 'undesirable', 'moments', '.', '(', 'however', ',', 'without', 'it', ',', 'the', 'final', 'twist', ',', 'which', 'i', 'will', 'not', 'reveal', ',', 'would', 'not', 'be', 'as', 'poignant', '.', ')', 'yet', ',', 'despite', 'these', 'quibbles', ',', 'i', 'enjoyed', 'oscar', 'and', 'lucinda', '.', 'storyline', 'faults', 'pale', 'in', 'the', 'light', 'of', 'two', 'such', 'finely', '-', 'realized', 'characters', '.', 'thematically', ',', 'the', 'film', 'is', 'also', 'strong', '.', 'the', 'unifying', 'motif', '--', 'that', 'everything', 'in', 'life', 'is', 'a', 'gamble', '--', 'is', 'successfully', 'delineated', '.', 'oscar', 'and', 'lucinda', 'don', \"'\", 't', 'just', 'wager', 'their', 'money', ',', 'they', 'bet', 'their', 'hearts', ',', 'minds', ',', 'and', 'souls', '.', 'a', 'card', 'game', 'they', 'engage', 'in', 'shortly', 'after', 'they', 'first', 'meet', 'could', 'easily', 'be', 'considered', 'a', 'form', 'of', 'emotional', '\"', 'strip', 'poker', '\"', 'where', 'defenses', 'are', 'peeled', 'away', 'to', 'reveal', 'their', 'shared', ',', 'secret', 'passion', '.', 'oscar', 'does', 'not', 'see', 'gambling', 'as', 'a', 'vice', '.', 'in', 'fact', ',', 'he', 'believes', 'that', 'the', 'greatest', 'chance', 'one', 'takes', 'in', 'life', 'is', 'betting', 'one', \"'\", 's', 'immortal', 'soul', 'on', 'the', 'truth', 'of', 'a', 'religious', 'faith', '.', 'ralph', 'fiennes', ',', 'who', 'normally', 'plays', 'strong', ',', 'confident', 'men', ',', 'is', 'very', 'much', 'at', 'home', 'as', 'the', 'fumbling', ',', 'insecure', 'oscar', '.', 'the', 'actor', 'brings', 'a', 'variety', 'of', 'nervous', 'tics', 'to', 'the', 'part', ',', 'all', 'of', 'which', 'subtly', 'add', 'to', 'a', 'vague', 'sense', 'of', 'discomfort', 'whenever', 'oscar', 'is', 'on', '-', 'screen', '.', 'as', 'good', 'as', 'fiennes', 'is', ',', 'however', ',', 'he', 'is', 'eclipsed', 'by', 'cate', 'blanchett', '.', 'the', 'actress', ',', 'who', 'appeared', 'earlier', 'this', 'year', 'as', 'one', 'of', 'the', 'leads', 'in', 'bruce', 'beresford', \"'\", 's', 'paradise', 'road', ',', 'is', 'mesmerizing', 'as', 'lucinda', '.', 'she', 'gives', 'this', 'liberated', 'woman', 'her', 'flash', ',', 'and', 'feeds', 'the', 'chemistry', 'between', 'the', 'two', 'lead', 'characters', 'so', 'that', 'it', 'sparkles', 'rather', 'than', 'fizzles', '.', 'effective', 'support', 'is', 'provided', 'by', 'ciaran', 'hinds', '(', 'the', 'male', 'lead', 'in', 'jane', 'austen', \"'\", 's', 'persuasion', ')', 'as', 'lucinda', \"'\", 's', 'close', 'friend', ',', 'tom', 'wilkinson', '(', 'the', 'full', 'monty', ')', 'as', 'oscar', \"'\", 's', 'mentor', ',', 'and', 'clive', 'russell', 'as', 'a', 'self', '-', 'serving', 'adventurer', '.', 'there', \"'\", 's', 'a', 'real', 'magic', 'in', 'the', 'way', 'armstrong', 'develops', 'the', 'story', ',', 'keeping', 'things', 'moving', 'in', 'unexpected', 'directions', 'without', 'lingering', 'too', 'long', 'on', 'any', 'one', 'moment', 'or', 'sequence', '.', '(', 'in', 'fact', ',', 'i', 'wish', 'she', 'had', 'devoted', 'a', 'little', 'more', 'time', 'to', 'the', 'luminous', 'middle', 'act', ',', 'which', 'has', 'oscar', 'and', 'lucinda', 'together', '.', ')', 'with', 'the', 'skill', 'of', 'a', 'consummate', 'storyteller', ',', 'she', 'weaves', 'romance', ',', 'friendship', ',', 'passion', ',', 'humor', ',', 'and', 'tragedy', 'together', 'into', 'a', 'complete', 'package', '.', 'the', 'characters', ',', 'with', 'all', 'of', 'their', 'human', 'foibles', 'and', 'neuroses', ',', 'are', 'wonderfully', 'developed', 'by', 'fiennes', 'and', 'blanchett', '.', 'so', 'who', 'cares', 'if', 'the', 'storyline', 'is', 'a', 'little', 'ripe', 'and', 'unwieldy', '?', 'oscar', 'and', 'lucinda', 'still', 'offers', 'abundant', 'pleasures', 'to', 'reward', 'the', 'viewer', '.'], 'pos')\n"
     ]
    }
   ],
   "source": [
    "all_print(documents[1])"
   ]
  },
  {
   "cell_type": "code",
   "execution_count": 47,
   "metadata": {},
   "outputs": [
    {
     "name": "stdout",
     "output_type": "stream",
     "text": [
      "[(',', 77717), ('the', 76529), ('.', 65876), ('a', 38106), ('and', 35576), ('of', 34123), ('to', 31937), (\"'\", 30585), ('is', 25195), ('in', 21822), ('s', 18513), ('\"', 17612), ('it', 16107), ('that', 15924), ('-', 15595)]\n"
     ]
    }
   ],
   "source": [
    "all_words=[]\n",
    "\n",
    "for w in movie_reviews.words():\n",
    "    all_words.append(w.lower())\n",
    "\n",
    "all_words=nltk.FreqDist(all_words)\n",
    "print(all_words.most_common(15))"
   ]
  },
  {
   "cell_type": "code",
   "execution_count": 46,
   "metadata": {},
   "outputs": [
    {
     "data": {
      "text/plain": [
       "['plot', ':', 'two', 'teen', 'couples', 'go', 'to', ...]"
      ]
     },
     "execution_count": 46,
     "metadata": {},
     "output_type": "execute_result"
    }
   ],
   "source": [
    "movie_reviews.words()"
   ]
  },
  {
   "cell_type": "code",
   "execution_count": 48,
   "metadata": {},
   "outputs": [
    {
     "name": "stdout",
     "output_type": "stream",
     "text": [
      "253\n"
     ]
    }
   ],
   "source": [
    "print(all_words[\"stupid\"])"
   ]
  },
  {
   "cell_type": "code",
   "execution_count": 51,
   "metadata": {},
   "outputs": [],
   "source": [
    "all_words=[]\n",
    "for w in movie_reviews.words():\n",
    "    all_words.append(w.lower())\n",
    "filtered_all_words=[word for word in all_words if not word in stop_words]"
   ]
  },
  {
   "cell_type": "code",
   "execution_count": 54,
   "metadata": {},
   "outputs": [
    {
     "name": "stdout",
     "output_type": "stream",
     "text": [
      "[(',', 77717), ('.', 65876), (\"'\", 30585), ('\"', 17612), ('-', 15595), (')', 11781), ('(', 11664), ('film', 9517), ('one', 5852), ('movie', 5771)]\n"
     ]
    }
   ],
   "source": [
    "filtered_all_words=nltk.FreqDist(filtered_all_words)\n",
    "print(filtered_all_words.most_common(10))\n"
   ]
  },
  {
   "cell_type": "code",
   "execution_count": null,
   "metadata": {
    "collapsed": true
   },
   "outputs": [],
   "source": []
  },
  {
   "cell_type": "code",
   "execution_count": null,
   "metadata": {
    "collapsed": true
   },
   "outputs": [],
   "source": []
  },
  {
   "cell_type": "code",
   "execution_count": null,
   "metadata": {
    "collapsed": true
   },
   "outputs": [],
   "source": []
  }
 ],
 "metadata": {
  "anaconda-cloud": {},
  "kernelspec": {
   "display_name": "Python [Root]",
   "language": "python",
   "name": "Python [Root]"
  },
  "language_info": {
   "codemirror_mode": {
    "name": "ipython",
    "version": 3
   },
   "file_extension": ".py",
   "mimetype": "text/x-python",
   "name": "python",
   "nbconvert_exporter": "python",
   "pygments_lexer": "ipython3",
   "version": "3.5.2"
  }
 },
 "nbformat": 4,
 "nbformat_minor": 1
}
